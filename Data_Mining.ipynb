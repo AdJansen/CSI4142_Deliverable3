{
 "cells": [
  {
   "cell_type": "code",
   "execution_count": null,
   "metadata": {},
   "outputs": [],
   "source": [
    "#import sklearn as sk;\n",
    "import pandas as pd;\n",
    "import numpy as np; \n"
   ]
  },
  {
   "cell_type": "markdown",
   "metadata": {},
   "source": [
    "Label: Human_Development_Index\n",
    "\n",
    "Countrys: \n",
    "\"Name\" \n",
    "\"Region\" \n",
    "\n",
    "Education: \n",
    "\n",
    "Event:\n",
    "\n",
    "Heath:\n",
    "\n",
    "Month:\n",
    "\n",
    "Population:\n",
    "\n",
    "Quality of Life:"
   ]
  },
  {
   "cell_type": "code",
   "execution_count": null,
   "metadata": {},
   "outputs": [],
   "source": [
    "# load the datasets \n",
    "dfCountry = pd.read_csv('./Tables/Country.csv')\n",
    "dfEducation = pd.read_csv('./Tables/Education.csv')\n",
    "dfEvent = pd.read_csv('./Tables/Event.csv')\n",
    "dfFactTable = pd.read_csv('./Tables/Fact_Table.csv')\n",
    "dfHealth = pd.read_csv('./Tables/Health.csv')\n",
    "dfMonth = pd.read_csv('./Tables/Month.csv')\n",
    "dfPopulation = pd.read_csv('./Tables/Population.csv')\n",
    "dfQualityOfLife = pd.read_csv('./Tables/Quality_of_Life.csv')\n",
    "\n",
    "dfPopulation = dfPopulation.drop([\"PopulationKey\", \"SurrogateKey\", \"Country\", \"Year\"], axis=1)\n",
    "dfEducation = dfEducation.drop([\"EducationKey\", \"SurrogateKey\", \"Country\", \"Year\"], axis=1)\n",
    "dfHealth = dfHealth.drop([\"HealthKey\", \"SurrogateKey\", \"Country\", \"Year\"], axis=1)\n",
    "dfQualityOfLife = dfQualityOfLife.drop([\"QualityofLifeKey\", \"SurrogateKey\"], axis=1)\n",
    "\n",
    "print(dfEducation.shape[0])\n",
    "print(dfHealth.shape[0])\n",
    "print(dfPopulation.shape[0])\n",
    "print(dfQualityOfLife.shape[0])\n",
    "\n",
    "canada = dfFactTable.loc[dfFactTable['CountryKey'] == 2]\n",
    "unitedStates = dfFactTable.loc[dfFactTable['CountryKey'] == 8]\n",
    "mexico = dfFactTable.loc[dfFactTable['CountryKey'] == 5]\n",
    "mauritius = dfFactTable.loc[dfFactTable['CountryKey'] == 6]\n",
    "liberia = dfFactTable.loc[dfFactTable['CountryKey'] == 4]\n",
    "congo = dfFactTable.loc[dfFactTable['CountryKey'] == 3]\n",
    "vietnam = dfFactTable.loc[dfFactTable['CountryKey'] == 9]\n",
    "nepal = dfFactTable.loc[dfFactTable['CountryKey'] == 7]\n",
    "bangladesh = dfFactTable.loc[dfFactTable['CountryKey'] == 1]\n",
    "\n",
    "fixedFact = canada.append(unitedStates)\n",
    "fixedFact = fixedFact.append(mexico)\n",
    "fixedFact = fixedFact.append(mauritius)\n",
    "fixedFact = fixedFact.append(liberia)\n",
    "fixedFact = fixedFact.append(congo)\n",
    "fixedFact = fixedFact.append(vietnam)\n",
    "fixedFact = fixedFact.append(nepal)\n",
    "fixedFact = fixedFact.append(bangladesh)\n",
    "fixedFact = fixedFact.drop([\"MonthKey\",\"CountryKey\", \"EducationKey\",  \"QualityofLifeKey\", \"HealthKey\", \"EventKey\", \"PopulationKey\", \"Development_Index\"], axis=1) \n",
    "\n",
    "df = pd.concat([dfQualityOfLife, dfHealth, dfPopulation, dfEducation, fixedFact], axis=1)\n",
    "\n",
    "# print the shape of the dataframes \n",
    "print(f\"Test Data shape: \\n{dfCountry}\\n\")\n",
    "print(f\"Test Data shape: \\n{dfEducation.shape}\\n\")\n",
    "print(f\"Test Data shape: \\n{dfEvent.shape}\\n\")\n",
    "print(f\"Test Data shape: \\n{dfFactTable.shape}\\n\")\n",
    "print(f\"Test Data shape: \\n{dfHealth.shape}\\n\")\n",
    "print(f\"Test Data shape: \\n{dfMonth.shape}\\n\")\n",
    "print(f\"Test Data shape: \\n{dfPopulation.shape}\\n\")\n",
    "print(f\"Test Data shape: \\n{dfQualityOfLife.shape}\\n\")\n",
    "print(\"_____________________________________________\\n\")\n",
    "\n",
    "\n",
    "    #scatterPlot\n",
    "\n",
    "\n",
    "#print(f\"Health Scatterplot: \\n{scatterHealth}\\n\")\n",
    "\n",
    "\n"
   ]
  },
  {
   "cell_type": "markdown",
   "metadata": {},
   "source": [
    "for item in (df.columns.values):\n",
    "     scatterPlot = df.plot.scatter(x=item, y='Human_Development_Index', c='orange')\n",
    "     scatterPlot.xaxis.label.set_color('white')        #setting up X-axis label color to yellow\n",
    "     scatterPlot.yaxis.label.set_color('white')          #setting up Y-axis label color to blue\n",
    "     scatterPlot.tick_params(axis='x', colors='white')    #setting up X-axis tick color to red\n",
    "     scatterPlot.tick_params(axis='y', colors='white')  #setting up Y-axis tick color to black\n",
    "     scatterPlot.spines['left'].set_color('white')        # setting up Y-axis tick color to red\n",
    "     scatterPlot.spines['top'].set_color('white')         #setting up above X-axis tick color to red"
   ]
  },
  {
   "cell_type": "code",
   "execution_count": null,
   "metadata": {},
   "outputs": [],
   "source": [
    "boxplot = df.boxplot(column = 'Human_Development_Index')\n",
    "histogram = df.hist(column='Human_Development_Index')"
   ]
  },
  {
   "cell_type": "code",
   "execution_count": null,
   "metadata": {},
   "outputs": [],
   "source": [
    "#Finds the percentage of nulls within each column\n",
    "percent_missing = df.isnull().sum() * 100 / len(df)\n",
    "\n",
    "#Takes any columns that have a % of nulls greater than 1/3, and drops them from the dataframe\n",
    "missing_value_df = pd.DataFrame({'percent_missing': percent_missing})\n",
    "missing_value_df.sort_values('percent_missing', inplace=True)\n",
    "print(\"\\n\\n Below are the percentages of nulls in each of our possible features:\")\n",
    "print(\"_____________________________________________________________________\\n \")\n",
    "print(missing_value_df)\n",
    "df = df.drop(missing_value_df[percent_missing>33.33].index, axis=1)\n",
    "\n",
    "df[\"Population,_total\"] = df[\"Population,_total\"].astype('float64')\n",
    "df[\"Population,_male\"] = df[\"Population,_male\"].astype('float64')\n",
    "df[\"Population,_female\"] = df[\"Population,_female\"].astype('float64')\n",
    "df[\"Quality_of_Life\"] = df[\"Quality_of_Life\"].astype('float64')\n"
   ]
  },
  {
   "cell_type": "code",
   "execution_count": null,
   "metadata": {},
   "outputs": [],
   "source": [
    "print(f\"dataframe datatypes:\\n\")\n",
    "print(df.dtypes)\n",
    "print(\"\\n\")\n",
    "print(\"_____________________________________________\\n\")\n"
   ]
  },
  {
   "cell_type": "code",
   "execution_count": null,
   "metadata": {},
   "outputs": [],
   "source": [
    "#Min max normalization of the numerical data (to bring all values in between 0 and 1)\n",
    "numerical_df = df.drop([\"Country\", \"Year\"], axis=1)\n",
    "normalized_df = (numerical_df-numerical_df.min())/(numerical_df.max()-numerical_df.min())\n",
    "normalized_df"
   ]
  },
  {
   "cell_type": "code",
   "execution_count": null,
   "metadata": {},
   "outputs": [],
   "source": []
  }
 ],
 "metadata": {
  "interpreter": {
   "hash": "6bb1f13dc7b0d3bf69b993e5cf5bb75fcd3ebfcdc503afb75b077e5881bff171"
  },
  "kernelspec": {
   "display_name": "Python 3.9.5 ('base')",
   "language": "python",
   "name": "python3"
  },
  "language_info": {
   "codemirror_mode": {
    "name": "ipython",
    "version": 3
   },
   "file_extension": ".py",
   "mimetype": "text/x-python",
   "name": "python",
   "nbconvert_exporter": "python",
   "pygments_lexer": "ipython3",
   "version": "3.10.3"
  },
  "orig_nbformat": 4
 },
 "nbformat": 4,
 "nbformat_minor": 2
}
