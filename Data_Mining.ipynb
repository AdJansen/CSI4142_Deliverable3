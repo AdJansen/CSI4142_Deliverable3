{
 "cells": [
  {
   "cell_type": "code",
   "execution_count": 79,
   "metadata": {},
   "outputs": [],
   "source": [
    "#import sklearn as sk;\n",
    "import pandas as pd;\n",
    "import numpy as np; \n"
   ]
  },
  {
   "cell_type": "markdown",
   "metadata": {},
   "source": [
    "Label: Human_Development_Index\n",
    "\n",
    "Countrys: \n",
    "\"Name\" \n",
    "\"Region\" \n",
    "\n",
    "Education: \n",
    "\n",
    "Event:\n",
    "\n",
    "Heath:\n",
    "\n",
    "Month:\n",
    "\n",
    "Population:\n",
    "\n",
    "Quality of Life:"
   ]
  },
  {
   "cell_type": "code",
   "execution_count": 80,
   "metadata": {},
   "outputs": [
    {
     "name": "stdout",
     "output_type": "stream",
     "text": [
      "144\n",
      "144\n",
      "144\n",
      "144\n",
      "Test Data shape: \n",
      "   CountryKey  SurrogateKey             Name                     Region  \\\n",
      "0           1            20       Bangladesh                 South Asia   \n",
      "1           2            35           Canada              North America   \n",
      "2           3            43  Dem. Rep. Congo         Sub-Saharan Africa   \n",
      "3           4           130          Liberia         Sub-Saharan Africa   \n",
      "4           5           153           Mexico  Latin America & Caribbean   \n",
      "5           6           166        Mauritius         Sub-Saharan Africa   \n",
      "6           7           177            Nepal                 South Asia   \n",
      "7           8           250    United States              North America   \n",
      "8           9           256          Vietnam        East Asia & Pacific   \n",
      "\n",
      "       Continent          Currency        Capital WB-2_Code Country_Code  \\\n",
      "0           Asia  Bangladeshi taka          Dhaka        BD          BGD   \n",
      "1  North America   Canadian dollar         Ottawa        CA          CAN   \n",
      "2         Africa   Congolese franc       Kinshasa        ZR          COD   \n",
      "3         Africa       U.S. dollar       Monrovia        LR          LBR   \n",
      "4  North America      Mexican peso    Mexico City        MX          MEX   \n",
      "5         Africa   Mauritian rupee     Port Louis        MU          MUS   \n",
      "6           Asia    Nepalese rupee      Kathmandu        NP          NPL   \n",
      "7  North America       U.S. dollar  Washington DC        US          USA   \n",
      "8           Asia   Vietnamese dong          Hanoi        VN          VNM   \n",
      "\n",
      "   Source_of_most_recent_Income_and_expenditure_data       System_Of_Trade  \\\n",
      "0            Integrated household survey (IHS), 2016  General trade system   \n",
      "1                     Labor force survey (LFS), 2013  General trade system   \n",
      "2                      1-2-3 survey (1-2-3), 2012/13                   NaN   \n",
      "3     Expenditure survey/budget survey (ES/BS), 2014                   NaN   \n",
      "4            Integrated household survey (IHS), 2016  General trade system   \n",
      "5            Integrated household survey (IHS), 2012  General trade system   \n",
      "6  Living Standards Measurement Study Survey (LSM...  General trade system   \n",
      "7                     Labor force survey (LFS), 2016  General trade system   \n",
      "8            Integrated household survey (IHS), 2016  General trade system   \n",
      "\n",
      "  External_debt_Reporting_status Lending_category  \\\n",
      "0                         Actual              IDA   \n",
      "1                            NaN              NaN   \n",
      "2                         Actual              IDA   \n",
      "3                         Actual              IDA   \n",
      "4                         Actual             IBRD   \n",
      "5                         Actual             IBRD   \n",
      "6                         Actual              IDA   \n",
      "7                            NaN              NaN   \n",
      "8                         Actual             IBRD   \n",
      "\n",
      "                    SNA_price_valuation         Income_Group  \\\n",
      "0     Value added at basic prices (VAB)  Lower middle income   \n",
      "1     Value added at basic prices (VAB)          High income   \n",
      "2     Value added at basic prices (VAB)           Low income   \n",
      "3  Value added at producer prices (VAP)           Low income   \n",
      "4     Value added at basic prices (VAB)  Upper middle income   \n",
      "5     Value added at basic prices (VAB)  Upper middle income   \n",
      "6     Value added at basic prices (VAB)  Lower middle income   \n",
      "7     Value added at basic prices (VAB)          High income   \n",
      "8     Value added at basic prices (VAB)  Lower middle income   \n",
      "\n",
      "  Latest_Population_Census                     Latest_Household_Survey  \n",
      "0                     2011     Multiple Indicator Cluster Survey, 2019  \n",
      "1                     2016                                         NaN  \n",
      "2                      NaN  Multiple Indicator Cluster Survey, 2017/18  \n",
      "3          2020 (expected)      Demographic and Health Survey, 2019/20  \n",
      "4          2020 (expected)     Multiple Indicator Cluster Survey, 2015  \n",
      "5          2020 (expected)                   World Health Survey, 2003  \n",
      "6                     2011     Multiple Indicator Cluster Survey, 2019  \n",
      "7          2020 (expected)                                         NaN  \n",
      "8                     2019  Multiple Indicator Cluster Survey, 2020/21  \n",
      "\n",
      "Test Data shape: \n",
      "(144, 12)\n",
      "\n",
      "Test Data shape: \n",
      "(939, 9)\n",
      "\n",
      "Test Data shape: \n",
      "(144, 10)\n",
      "\n",
      "Test Data shape: \n",
      "(144, 16)\n",
      "\n",
      "Test Data shape: \n",
      "(216, 6)\n",
      "\n",
      "Test Data shape: \n",
      "(144, 12)\n",
      "\n",
      "Test Data shape: \n",
      "(144, 14)\n",
      "\n",
      "_____________________________________________\n",
      "\n"
     ]
    },
    {
     "name": "stderr",
     "output_type": "stream",
     "text": [
      "C:\\Users\\adamj\\AppData\\Local\\Temp\\ipykernel_21780\\500533487.py:31: FutureWarning: The frame.append method is deprecated and will be removed from pandas in a future version. Use pandas.concat instead.\n",
      "  fixedFact = canada.append(unitedStates)\n",
      "C:\\Users\\adamj\\AppData\\Local\\Temp\\ipykernel_21780\\500533487.py:32: FutureWarning: The frame.append method is deprecated and will be removed from pandas in a future version. Use pandas.concat instead.\n",
      "  fixedFact = fixedFact.append(mexico)\n",
      "C:\\Users\\adamj\\AppData\\Local\\Temp\\ipykernel_21780\\500533487.py:33: FutureWarning: The frame.append method is deprecated and will be removed from pandas in a future version. Use pandas.concat instead.\n",
      "  fixedFact = fixedFact.append(mauritius)\n",
      "C:\\Users\\adamj\\AppData\\Local\\Temp\\ipykernel_21780\\500533487.py:34: FutureWarning: The frame.append method is deprecated and will be removed from pandas in a future version. Use pandas.concat instead.\n",
      "  fixedFact = fixedFact.append(liberia)\n",
      "C:\\Users\\adamj\\AppData\\Local\\Temp\\ipykernel_21780\\500533487.py:35: FutureWarning: The frame.append method is deprecated and will be removed from pandas in a future version. Use pandas.concat instead.\n",
      "  fixedFact = fixedFact.append(congo)\n",
      "C:\\Users\\adamj\\AppData\\Local\\Temp\\ipykernel_21780\\500533487.py:36: FutureWarning: The frame.append method is deprecated and will be removed from pandas in a future version. Use pandas.concat instead.\n",
      "  fixedFact = fixedFact.append(vietnam)\n",
      "C:\\Users\\adamj\\AppData\\Local\\Temp\\ipykernel_21780\\500533487.py:37: FutureWarning: The frame.append method is deprecated and will be removed from pandas in a future version. Use pandas.concat instead.\n",
      "  fixedFact = fixedFact.append(nepal)\n",
      "C:\\Users\\adamj\\AppData\\Local\\Temp\\ipykernel_21780\\500533487.py:38: FutureWarning: The frame.append method is deprecated and will be removed from pandas in a future version. Use pandas.concat instead.\n",
      "  fixedFact = fixedFact.append(bangladesh)\n"
     ]
    }
   ],
   "source": [
    "# load the datasets \n",
    "dfCountry = pd.read_csv('./Tables/Country.csv')\n",
    "dfEducation = pd.read_csv('./Tables/Education.csv')\n",
    "dfEvent = pd.read_csv('./Tables/Event.csv')\n",
    "dfFactTable = pd.read_csv('./Tables/Fact_Table.csv')\n",
    "dfHealth = pd.read_csv('./Tables/Health.csv')\n",
    "dfMonth = pd.read_csv('./Tables/Month.csv')\n",
    "dfPopulation = pd.read_csv('./Tables/Population.csv')\n",
    "dfQualityOfLife = pd.read_csv('./Tables/Quality_of_Life.csv')\n",
    "\n",
    "dfPopulation = dfPopulation.drop([\"PopulationKey\", \"SurrogateKey\", \"Country\", \"Year\"], axis=1)\n",
    "dfEducation = dfEducation.drop([\"EducationKey\", \"SurrogateKey\", \"Country\", \"Year\"], axis=1)\n",
    "dfHealth = dfHealth.drop([\"HealthKey\", \"SurrogateKey\", \"Country\", \"Year\"], axis=1)\n",
    "dfQualityOfLife = dfQualityOfLife.drop([\"QualityofLifeKey\", \"SurrogateKey\"], axis=1)\n",
    "\n",
    "print(dfEducation.shape[0])\n",
    "print(dfHealth.shape[0])\n",
    "print(dfPopulation.shape[0])\n",
    "print(dfQualityOfLife.shape[0])\n",
    "\n",
    "canada = dfFactTable.loc[dfFactTable['CountryKey'] == 2]\n",
    "unitedStates = dfFactTable.loc[dfFactTable['CountryKey'] == 8]\n",
    "mexico = dfFactTable.loc[dfFactTable['CountryKey'] == 5]\n",
    "mauritius = dfFactTable.loc[dfFactTable['CountryKey'] == 6]\n",
    "liberia = dfFactTable.loc[dfFactTable['CountryKey'] == 4]\n",
    "congo = dfFactTable.loc[dfFactTable['CountryKey'] == 3]\n",
    "vietnam = dfFactTable.loc[dfFactTable['CountryKey'] == 9]\n",
    "nepal = dfFactTable.loc[dfFactTable['CountryKey'] == 7]\n",
    "bangladesh = dfFactTable.loc[dfFactTable['CountryKey'] == 1]\n",
    "\n",
    "fixedFact = canada.append(unitedStates)\n",
    "fixedFact = fixedFact.append(mexico)\n",
    "fixedFact = fixedFact.append(mauritius)\n",
    "fixedFact = fixedFact.append(liberia)\n",
    "fixedFact = fixedFact.append(congo)\n",
    "fixedFact = fixedFact.append(vietnam)\n",
    "fixedFact = fixedFact.append(nepal)\n",
    "fixedFact = fixedFact.append(bangladesh)\n",
    "fixedFact = fixedFact.drop([\"MonthKey\",\"CountryKey\", \"EducationKey\",  \"QualityofLifeKey\", \"HealthKey\", \"EventKey\", \"PopulationKey\", \"Development_Index\"], axis=1) \n",
    "\n",
    "df = pd.concat([dfQualityOfLife, dfHealth, dfPopulation, dfEducation, fixedFact], axis=1)\n",
    "\n",
    "# print the shape of the dataframes \n",
    "print(f\"Test Data shape: \\n{dfCountry}\\n\")\n",
    "print(f\"Test Data shape: \\n{dfEducation.shape}\\n\")\n",
    "print(f\"Test Data shape: \\n{dfEvent.shape}\\n\")\n",
    "print(f\"Test Data shape: \\n{dfFactTable.shape}\\n\")\n",
    "print(f\"Test Data shape: \\n{dfHealth.shape}\\n\")\n",
    "print(f\"Test Data shape: \\n{dfMonth.shape}\\n\")\n",
    "print(f\"Test Data shape: \\n{dfPopulation.shape}\\n\")\n",
    "print(f\"Test Data shape: \\n{dfQualityOfLife.shape}\\n\")\n",
    "print(\"_____________________________________________\\n\")\n",
    "\n",
    "\n",
    "    #scatterPlot\n",
    "\n",
    "\n",
    "#print(f\"Health Scatterplot: \\n{scatterHealth}\\n\")\n",
    "\n",
    "\n"
   ]
  },
  {
   "cell_type": "markdown",
   "metadata": {},
   "source": [
    "for item in (df.columns.values):\n",
    "     scatterPlot = df.plot.scatter(x=item, y='Human_Development_Index', c='orange')\n",
    "     scatterPlot.xaxis.label.set_color('white')        #setting up X-axis label color to yellow\n",
    "     scatterPlot.yaxis.label.set_color('white')          #setting up Y-axis label color to blue\n",
    "     scatterPlot.tick_params(axis='x', colors='white')    #setting up X-axis tick color to red\n",
    "     scatterPlot.tick_params(axis='y', colors='white')  #setting up Y-axis tick color to black\n",
    "     scatterPlot.spines['left'].set_color('white')        # setting up Y-axis tick color to red\n",
    "     scatterPlot.spines['top'].set_color('white')         #setting up above X-axis tick color to red"
   ]
  },
  {
   "cell_type": "code",
   "execution_count": 81,
   "metadata": {},
   "outputs": [
    {
     "data": {
      "image/png": "[encoded data removed]",
      "text/plain": [
       "<Figure size 432x288 with 1 Axes>"
      ]
     },
     "metadata": {
      "needs_background": "light"
     },
     "output_type": "display_data"
    },
    {
     "data": {
      "image/png": "[encoded data removed]",
      "text/plain": [
       "<Figure size 432x288 with 1 Axes>"
      ]
     },
     "metadata": {
      "needs_background": "light"
     },
     "output_type": "display_data"
    }
   ],
   "source": [
    "boxplot = df.boxplot(column = 'Human_Development_Index')\n",
    "histogram = df.hist(column='Human_Development_Index')"
   ]
  },
  {
   "cell_type": "code",
   "execution_count": 96,
   "metadata": {},
   "outputs": [
    {
     "name": "stdout",
     "output_type": "stream",
     "text": [
      "\n",
      "\n",
      " Below are the percentages of nulls in each of our possible features:\n",
      "_____________________________________________________________________\n",
      " \n",
      "                                                    percent_missing\n",
      "Country                                                    0.000000\n",
      "Age_dependency_ratio,_young                                0.000000\n",
      "Age_dependency_ratio_(%_of_working-age_population)         0.000000\n",
      "Urban_population_(%_of_total_population)                   0.000000\n",
      "Rural_population_(%_of_total_population)                   0.000000\n",
      "Population_growth_(annual_%)                               0.000000\n",
      "Population,_female                                         0.000000\n",
      "Population,_male                                           0.000000\n",
      "Population,_total                                          0.000000\n",
      "Quality_of_Life                                            0.000000\n",
      "Human_Development_Index                                    0.000000\n",
      "%_of_population_using_at_least_basic_drinking_w...         0.000000\n",
      "Year                                                       0.000000\n",
      "Unemployment,_total(%_of_total_labor_force)                0.000000\n",
      "People_practicing_open_defecation(%_of_population)         2.083333\n",
      "%_of_population_using_least_basic_sanitation_se...         2.083333\n",
      "Unemployment,_female(%_of_female_labor_force)              6.250000\n",
      "Unemployment,_male(%_of_male_labor_force)                  6.250000\n",
      "Labor_force,_female(%_of_total_labor_force)                6.250000\n",
      "Birth_rate,_crude_(per_1,000_people)                       6.250000\n",
      "Mortality_from_CVD,cancer,diabetes_or_CRD_betwe...        16.666667\n",
      "Immunization_HepB3(%_of_one-year-old_children)            18.750000\n",
      "Domestic_government_health_expenditure_per_capi...        22.222222\n",
      "Out-of-pocket_expenditure(%_of _current_health_...        22.222222\n",
      "Adults(ages_15+)_and_children(0-14_years)_livin...        27.777778\n",
      "School_enrollment_primary_male(%gross)                    31.250000\n",
      "School_enrollment_primary_female(%gross)                  31.250000\n",
      "School_enrollment_tertiary(%gross)                        32.638889\n"
     ]
    },
    {
     "name": "stderr",
     "output_type": "stream",
     "text": [
      "C:\\Users\\adamj\\AppData\\Local\\Temp\\ipykernel_21780\\1009057893.py:10: UserWarning: Boolean Series key will be reindexed to match DataFrame index.\n",
      "  df = df.drop(missing_value_df[percent_missing>33.33].index, axis=1)\n"
     ]
    }
   ],
   "source": [
    "#Finds the percentage of nulls within each column\n",
    "percent_missing = df.isnull().sum() * 100 / len(df)\n",
    "\n",
    "#Takes any columns that have a % of nulls greater than 1/3, and drops them from the dataframe\n",
    "missing_value_df = pd.DataFrame({'percent_missing': percent_missing})\n",
    "missing_value_df.sort_values('percent_missing', inplace=True)\n",
    "print(\"\\n\\n Below are the percentages of nulls in each of our possible features:\")\n",
    "print(\"_____________________________________________________________________\\n \")\n",
    "print(missing_value_df)\n",
    "df = df.drop(missing_value_df[percent_missing>33.33].index, axis=1)\n",
    "\n",
    "df[\"Population,_total\"] = df[\"Population,_total\"].astype('float64')\n",
    "df[\"Population,_male\"] = df[\"Population,_male\"].astype('float64')\n",
    "df[\"Population,_female\"] = df[\"Population,_female\"].astype('float64')\n",
    "df[\"Quality_of_Life\"] = df[\"Quality_of_Life\"].astype('float64')\n"
   ]
  },
  {
   "cell_type": "code",
   "execution_count": 97,
   "metadata": {},
   "outputs": [
    {
     "name": "stdout",
     "output_type": "stream",
     "text": [
      "dataframe datatypes:\n",
      "\n",
      "Country                                                            object\n",
      "Year                                                               object\n",
      "People_practicing_open_defecation(%_of_population)                float64\n",
      "%_of_population_using_least_basic_sanitation_services             float64\n",
      "%_of_population_using_at_least_basic_drinking_water_services      float64\n",
      "Labor_force,_female(%_of_total_labor_force)                       float64\n",
      "Unemployment,_male(%_of_male_labor_force)                         float64\n",
      "Unemployment,_female(%_of_female_labor_force)                     float64\n",
      "Unemployment,_total(%_of_total_labor_force)                       float64\n",
      "Domestic_government_health_expenditure_per_capita(current US$)    float64\n",
      "Immunization_HepB3(%_of_one-year-old_children)                    float64\n",
      "Adults(ages_15+)_and_children(0-14_years)_living_with_HIV         float64\n",
      "Out-of-pocket_expenditure(%_of _current_health_expenditure)       float64\n",
      "Mortality_from_CVD,cancer,diabetes_or_CRD_between_30-70(%)        float64\n",
      "Population,_total                                                 float64\n",
      "Population,_male                                                  float64\n",
      "Population,_female                                                float64\n",
      "Population_growth_(annual_%)                                      float64\n",
      "Birth_rate,_crude_(per_1,000_people)                              float64\n",
      "Rural_population_(%_of_total_population)                          float64\n",
      "Urban_population_(%_of_total_population)                          float64\n",
      "Age_dependency_ratio_(%_of_working-age_population)                float64\n",
      "Age_dependency_ratio,_young                                       float64\n",
      "School_enrollment_primary_male(%gross)                            float64\n",
      "School_enrollment_primary_female(%gross)                          float64\n",
      "School_enrollment_tertiary(%gross)                                float64\n",
      "Quality_of_Life                                                   float64\n",
      "Human_Development_Index                                           float64\n",
      "dtype: object\n",
      "\n",
      "\n",
      "_____________________________________________\n",
      "\n"
     ]
    }
   ],
   "source": [
    "print(f\"dataframe datatypes:\\n\")\n",
    "print(df.dtypes)\n",
    "print(\"\\n\")\n",
    "print(\"_____________________________________________\\n\")\n"
   ]
  },
  {
   "cell_type": "code",
   "execution_count": null,
   "metadata": {},
   "outputs": [],
   "source": []
  }
 ],
 "metadata": {
  "interpreter": {
   "hash": "6bb1f13dc7b0d3bf69b993e5cf5bb75fcd3ebfcdc503afb75b077e5881bff171"
  },
  "kernelspec": {
   "display_name": "Python 3.9.5 ('base')",
   "language": "python",
   "name": "python3"
  },
  "language_info": {
   "codemirror_mode": {
    "name": "ipython",
    "version": 3
   },
   "file_extension": ".py",
   "mimetype": "text/x-python",
   "name": "python",
   "nbconvert_exporter": "python",
   "pygments_lexer": "ipython3",
   "version": "3.10.3"
  },
  "orig_nbformat": 4
 },
 "nbformat": 4,
 "nbformat_minor": 2
}
