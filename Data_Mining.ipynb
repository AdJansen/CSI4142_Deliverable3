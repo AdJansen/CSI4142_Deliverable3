{
 "cells": [
  {
   "cell_type": "code",
   "execution_count": 39,
   "metadata": {},
   "outputs": [],
   "source": [
    "import sklearn as sk;\n",
    "import pandas as pd;\n",
    "import numpy as np; \n",
    "#Nik has a small toe"
   ]
  },
  {
   "cell_type": "code",
   "execution_count": 40,
   "metadata": {},
   "outputs": [
    {
     "name": "stdout",
     "output_type": "stream",
     "text": [
      "Test Data shape: \n",
      "   CountryKey  SurrogateKey             Name                     Region  \\\n",
      "0           1            20       Bangladesh                 South Asia   \n",
      "1           2            35           Canada              North America   \n",
      "2           3            43  Dem. Rep. Congo         Sub-Saharan Africa   \n",
      "3           4           130          Liberia         Sub-Saharan Africa   \n",
      "4           5           153           Mexico  Latin America & Caribbean   \n",
      "5           6           166        Mauritius         Sub-Saharan Africa   \n",
      "6           7           177            Nepal                 South Asia   \n",
      "7           8           250    United States              North America   \n",
      "8           9           256          Vietnam        East Asia & Pacific   \n",
      "\n",
      "       Continent          Currency        Capital WB-2_Code Country_Code  \\\n",
      "0           Asia  Bangladeshi taka          Dhaka        BD          BGD   \n",
      "1  North America   Canadian dollar         Ottawa        CA          CAN   \n",
      "2         Africa   Congolese franc       Kinshasa        ZR          COD   \n",
      "3         Africa       U.S. dollar       Monrovia        LR          LBR   \n",
      "4  North America      Mexican peso    Mexico City        MX          MEX   \n",
      "5         Africa   Mauritian rupee     Port Louis        MU          MUS   \n",
      "6           Asia    Nepalese rupee      Kathmandu        NP          NPL   \n",
      "7  North America       U.S. dollar  Washington DC        US          USA   \n",
      "8           Asia   Vietnamese dong          Hanoi        VN          VNM   \n",
      "\n",
      "   Source_of_most_recent_Income_and_expenditure_data       System_Of_Trade  \\\n",
      "0            Integrated household survey (IHS), 2016  General trade system   \n",
      "1                     Labor force survey (LFS), 2013  General trade system   \n",
      "2                      1-2-3 survey (1-2-3), 2012/13                   NaN   \n",
      "3     Expenditure survey/budget survey (ES/BS), 2014                   NaN   \n",
      "4            Integrated household survey (IHS), 2016  General trade system   \n",
      "5            Integrated household survey (IHS), 2012  General trade system   \n",
      "6  Living Standards Measurement Study Survey (LSM...  General trade system   \n",
      "7                     Labor force survey (LFS), 2016  General trade system   \n",
      "8            Integrated household survey (IHS), 2016  General trade system   \n",
      "\n",
      "  External_debt_Reporting_status Lending_category  \\\n",
      "0                         Actual              IDA   \n",
      "1                            NaN              NaN   \n",
      "2                         Actual              IDA   \n",
      "3                         Actual              IDA   \n",
      "4                         Actual             IBRD   \n",
      "5                         Actual             IBRD   \n",
      "6                         Actual              IDA   \n",
      "7                            NaN              NaN   \n",
      "8                         Actual             IBRD   \n",
      "\n",
      "                    SNA_price_valuation         Income_Group  \\\n",
      "0     Value added at basic prices (VAB)  Lower middle income   \n",
      "1     Value added at basic prices (VAB)          High income   \n",
      "2     Value added at basic prices (VAB)           Low income   \n",
      "3  Value added at producer prices (VAP)           Low income   \n",
      "4     Value added at basic prices (VAB)  Upper middle income   \n",
      "5     Value added at basic prices (VAB)  Upper middle income   \n",
      "6     Value added at basic prices (VAB)  Lower middle income   \n",
      "7     Value added at basic prices (VAB)          High income   \n",
      "8     Value added at basic prices (VAB)  Lower middle income   \n",
      "\n",
      "  Latest_Population_Census                     Latest_Household_Survey  \n",
      "0                     2011     Multiple Indicator Cluster Survey, 2019  \n",
      "1                     2016                                         NaN  \n",
      "2                      NaN  Multiple Indicator Cluster Survey, 2017/18  \n",
      "3          2020 (expected)      Demographic and Health Survey, 2019/20  \n",
      "4          2020 (expected)     Multiple Indicator Cluster Survey, 2015  \n",
      "5          2020 (expected)                   World Health Survey, 2003  \n",
      "6                     2011     Multiple Indicator Cluster Survey, 2019  \n",
      "7          2020 (expected)                                         NaN  \n",
      "8                     2019  Multiple Indicator Cluster Survey, 2020/21  \n",
      "\n",
      "Test Data shape: \n",
      "(144, 16)\n",
      "\n",
      "Test Data shape: \n",
      "(939, 9)\n",
      "\n",
      "Test Data shape: \n",
      "(144, 10)\n",
      "\n",
      "Test Data shape: \n",
      "(144, 20)\n",
      "\n",
      "Test Data shape: \n",
      "(216, 6)\n",
      "\n",
      "Test Data shape: \n",
      "(144, 16)\n",
      "\n",
      "Test Data shape: \n",
      "(144, 16)\n",
      "\n",
      "_____________________________________________\n",
      "\n",
      "Health Scatterplot: \n",
      "AxesSubplot(0.125,0.125;0.775x0.755)\n",
      "\n",
      "['EducationKey' 'SurrogateKey'\n",
      " 'Literacy_rate_adult_female_(%_of_females_ages_15_and_above)'\n",
      " 'Literacy_rate_adult_male_(%_of_males_ages_15_and_above)'\n",
      " 'Literacy_rate_adult_total_(%_of_people_ages_15_and_above)'\n",
      " 'Literacy_rate_youth_total(%_of_people_ages_15-24)'\n",
      " 'Public_spending_on_education_total(%_of _GDP)'\n",
      " 'School_enrollment_primary_male(%gross)'\n",
      " 'School_enrollment_primary_female(%gross)'\n",
      " 'School_enrollment_secondary_male(%gross)'\n",
      " 'School_enrollment_secondary_female(%gross)'\n",
      " 'School_enrollment_tertiary_female(%gross)'\n",
      " 'School_enrollment_tertiary(%gross)'\n",
      " 'Primary_completion_rate_total(%_of_relevant_age_group)' 'Year' 'Country']\n"
     ]
    },
    {
     "data": {
      "image/png": "[encoded data removed]",
      "text/plain": [
       "<Figure size 432x288 with 1 Axes>"
      ]
     },
     "metadata": {
      "needs_background": "light"
     },
     "output_type": "display_data"
    }
   ],
   "source": [
    "# load the datasets \n",
    "dfCountry = pd.read_csv('./Tables/Country.csv')\n",
    "dfEducation = pd.read_csv('./Tables/Education.csv')\n",
    "dfEvent = pd.read_csv('./Tables/Event.csv')\n",
    "dfFactTable = pd.read_csv('./Tables/Fact_Table.csv')\n",
    "dfHealth = pd.read_csv('./Tables/Health.csv')\n",
    "dfMonth = pd.read_csv('./Tables/Month.csv')\n",
    "dfPopulation = pd.read_csv('./Tables/Population.csv')\n",
    "dfQualityOfLife = pd.read_csv('./Tables/Quality_of_Life.csv')\n",
    "\n",
    "# print the shape of the dataframes (1)\n",
    "print(f\"Test Data shape: \\n{dfCountry}\\n\")\n",
    "print(f\"Test Data shape: \\n{dfEducation.shape}\\n\")\n",
    "print(f\"Test Data shape: \\n{dfEvent.shape}\\n\")\n",
    "print(f\"Test Data shape: \\n{dfFactTable.shape}\\n\")\n",
    "print(f\"Test Data shape: \\n{dfHealth.shape}\\n\")\n",
    "print(f\"Test Data shape: \\n{dfMonth.shape}\\n\")\n",
    "print(f\"Test Data shape: \\n{dfPopulation.shape}\\n\")\n",
    "print(f\"Test Data shape: \\n{dfQualityOfLife.shape}\\n\")\n",
    "print(\"_____________________________________________\\n\")\n",
    "scatterHealth = dfHealth.plot.scatter(x='Country', y='Hospital_beds(per_1,000_people)', c='orange')\n",
    "print(f\"Health Scatterplot: \\n{scatterHealth}\\n\")\n",
    "coloumns = dfEducation.columns\n",
    "print(coloumns.values)\n",
    "boxPlot = dfEducation.boxplot"
   ]
  },
  {
   "cell_type": "markdown",
   "metadata": {},
   "source": []
  },
  {
   "cell_type": "markdown",
   "metadata": {},
   "source": []
  },
  {
   "cell_type": "markdown",
   "metadata": {},
   "source": []
  }
 ],
 "metadata": {
  "interpreter": {
   "hash": "6bb1f13dc7b0d3bf69b993e5cf5bb75fcd3ebfcdc503afb75b077e5881bff171"
  },
  "kernelspec": {
   "display_name": "Python 3.9.5 ('base')",
   "language": "python",
   "name": "python3"
  },
  "language_info": {
   "codemirror_mode": {
    "name": "ipython",
    "version": 3
   },
   "file_extension": ".py",
   "mimetype": "text/x-python",
   "name": "python",
   "nbconvert_exporter": "python",
   "pygments_lexer": "ipython3",
   "version": "3.8.12"
  },
  "orig_nbformat": 4
 },
 "nbformat": 4,
 "nbformat_minor": 2
}
